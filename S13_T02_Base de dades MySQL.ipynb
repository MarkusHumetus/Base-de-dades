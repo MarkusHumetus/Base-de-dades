{
 "cells": [
  {
   "cell_type": "markdown",
   "id": "dcd6be5a",
   "metadata": {},
   "source": [
    "## Descripció"
   ]
  },
  {
   "cell_type": "markdown",
   "id": "81fbe001",
   "metadata": {},
   "source": [
    "Crear base de dades amb MySQL."
   ]
  },
  {
   "cell_type": "markdown",
   "id": "317c79e2",
   "metadata": {},
   "source": [
    "## Nivell 1"
   ]
  },
  {
   "cell_type": "markdown",
   "id": "432690a4",
   "metadata": {},
   "source": [
    "**- Exercici 1:**\n",
    "Crea una base de dades relacionals senzilla utilitzant MySQL(https://www.mysql.com/) i connecta-la a Python\n"
   ]
  },
  {
   "cell_type": "code",
   "execution_count": 4,
   "id": "0299ceea",
   "metadata": {
    "ExecuteTime": {
     "end_time": "2022-06-01T14:45:08.497711Z",
     "start_time": "2022-06-01T14:45:08.454344Z"
    }
   },
   "outputs": [],
   "source": [
    "import matplotlib.pyplot as plt\n",
    "import seaborn as sns\n",
    "import numpy as np\n",
    "import pandas as pd\n",
    "import re\n",
    "%matplotlib inline \n",
    "from datetime import datetime, timedelta\n",
    "\n",
    "#BBDD:\n",
    "import pymysql\n",
    "import MySQLdb\n",
    "from sqlalchemy import create_engine\n",
    "\n",
    "\n"
   ]
  },
  {
   "cell_type": "markdown",
   "id": "75b742dd",
   "metadata": {},
   "source": [
    "Instal.lació de Xampp per a la gestió en servidor local amb Apache de la BBDD que ens permet treballar amb phpMyAdmin que és un gestor de MySQL via web.\n",
    "\n",
    "Genero una base de dades d'una biblioteca, on tenim la taula d'usuaris, la de llibres i la de prestecs."
   ]
  },
  {
   "cell_type": "code",
   "execution_count": 2,
   "id": "5ebac2cc",
   "metadata": {
    "ExecuteTime": {
     "end_time": "2022-06-01T14:42:48.616245Z",
     "start_time": "2022-06-01T14:42:48.181673Z"
    }
   },
   "outputs": [],
   "source": [
    "\n",
    "#mirem tots els llibres que tenim a la taula de llibres\n",
    "conn=pymysql.connect(host='localhost',port=int(3306),user='root',passwd='',db='biblioteca_socrates')\n",
    "df=pd.read_sql_query(\"SELECT * FROM llibres\",conn)\n"
   ]
  },
  {
   "cell_type": "code",
   "execution_count": 3,
   "id": "c19b9f32",
   "metadata": {
    "ExecuteTime": {
     "end_time": "2022-06-01T14:42:49.130905Z",
     "start_time": "2022-06-01T14:42:49.123873Z"
    }
   },
   "outputs": [],
   "source": [
    "conn.close()"
   ]
  },
  {
   "cell_type": "markdown",
   "id": "e71fd0f9",
   "metadata": {},
   "source": [
    "Provo d'introduir dades a la BBDD a partir d'un dataframe."
   ]
  },
  {
   "cell_type": "code",
   "execution_count": 6,
   "id": "8dc2782f",
   "metadata": {
    "ExecuteTime": {
     "end_time": "2022-06-01T09:35:27.739812Z",
     "start_time": "2022-06-01T09:35:27.721830Z"
    }
   },
   "outputs": [],
   "source": [
    "# generem un mètode per generar emails aleatoris a partir de nom i cognom:\n",
    "import random\n",
    "\n",
    "def email_adress_generator (name, surname):\n",
    "    email=''\n",
    "    servers=['@hotmail.com','@gmail.com','@gmx.net', '@yahoo.com']\n",
    "    years=range(1950,2005,1)\n",
    "    union =['_','.']\n",
    "    union_char=union[random.randint(0, (len(union)-1))]\n",
    "    j=random.randint(0, 3)\n",
    "    if j==0:\n",
    "        union_char2=union[random.randint(0, (len(union)-1))]\n",
    "        email = name + union_char + surname + union_char2 +str(years[random.randint(0, (len(years)-1))])\n",
    "    elif j==1:\n",
    "        email = surname + union_char + str(years[random.randint(0, (len(years)-1))])\n",
    "    elif j==2:\n",
    "        email = name + union_char + str(years[random.randint(0, (len(years)-1))])\n",
    "    else:\n",
    "        email =name +  surname + str(random.randint(1,99))\n",
    "    email = email+servers[random.randint(0, (len(servers)-1))]        \n",
    "    return email"
   ]
  },
  {
   "cell_type": "code",
   "execution_count": 28,
   "id": "6bf353ed",
   "metadata": {
    "ExecuteTime": {
     "end_time": "2022-06-01T09:56:14.383956Z",
     "start_time": "2022-06-01T09:56:14.267271Z"
    }
   },
   "outputs": [
    {
     "data": {
      "text/html": [
       "<div>\n",
       "<style scoped>\n",
       "    .dataframe tbody tr th:only-of-type {\n",
       "        vertical-align: middle;\n",
       "    }\n",
       "\n",
       "    .dataframe tbody tr th {\n",
       "        vertical-align: top;\n",
       "    }\n",
       "\n",
       "    .dataframe thead th {\n",
       "        text-align: right;\n",
       "    }\n",
       "</style>\n",
       "<table border=\"1\" class=\"dataframe\">\n",
       "  <thead>\n",
       "    <tr style=\"text-align: right;\">\n",
       "      <th></th>\n",
       "      <th>nom</th>\n",
       "      <th>cognoms</th>\n",
       "      <th>email</th>\n",
       "    </tr>\n",
       "    <tr>\n",
       "      <th>ID_usuari</th>\n",
       "      <th></th>\n",
       "      <th></th>\n",
       "      <th></th>\n",
       "    </tr>\n",
       "  </thead>\n",
       "  <tbody>\n",
       "    <tr>\n",
       "      <th>0</th>\n",
       "      <td>Antonio</td>\n",
       "      <td>Garcia</td>\n",
       "      <td>Antonio_1995@yahoo.com</td>\n",
       "    </tr>\n",
       "    <tr>\n",
       "      <th>1</th>\n",
       "      <td>Maria Carmen</td>\n",
       "      <td>Martinez</td>\n",
       "      <td>Maria Carmen.1980@yahoo.com</td>\n",
       "    </tr>\n",
       "    <tr>\n",
       "      <th>2</th>\n",
       "      <td>Francisco</td>\n",
       "      <td>Lopez</td>\n",
       "      <td>Francisco_1983@gmail.com</td>\n",
       "    </tr>\n",
       "    <tr>\n",
       "      <th>3</th>\n",
       "      <td>Juan</td>\n",
       "      <td>Sanchez</td>\n",
       "      <td>Sanchez_1993@gmail.com</td>\n",
       "    </tr>\n",
       "    <tr>\n",
       "      <th>4</th>\n",
       "      <td>Manuel</td>\n",
       "      <td>Gonzalez</td>\n",
       "      <td>Manuel.Gonzalez.1980@yahoo.com</td>\n",
       "    </tr>\n",
       "  </tbody>\n",
       "</table>\n",
       "</div>"
      ],
      "text/plain": [
       "                    nom   cognoms                           email\n",
       "ID_usuari                                                        \n",
       "0               Antonio    Garcia          Antonio_1995@yahoo.com\n",
       "1          Maria Carmen  Martinez     Maria Carmen.1980@yahoo.com\n",
       "2             Francisco     Lopez        Francisco_1983@gmail.com\n",
       "3                  Juan   Sanchez          Sanchez_1993@gmail.com\n",
       "4                Manuel  Gonzalez  Manuel.Gonzalez.1980@yahoo.com"
      ]
     },
     "execution_count": 28,
     "metadata": {},
     "output_type": "execute_result"
    }
   ],
   "source": [
    "#Generem un dataframe de noms, cognoms i emails\n",
    "\n",
    "df_nom_cognom=pd.read_excel('Noms i cognoms.xlsx')\n",
    "df_nom_cognom.drop('Unnamed: 3',axis=1, inplace = True)\n",
    "df_nom_cognom['NOMBRE']='None'\n",
    "emails = []\n",
    "for i in range(len (df_nom_cognom)):\n",
    "    sex = random.randint(0,1)\n",
    "    if sex == 0:\n",
    "        df_nom_cognom.loc[i,'NOMBRE'] = df_nom_cognom.loc[i,'NOMBRES HOMBRE'].title()\n",
    "    if sex == 1:\n",
    "        df_nom_cognom.loc[i,'NOMBRE'] = df_nom_cognom.loc[i,'NOMBRES MUJER'].title()\n",
    "    emails.append(email_adress_generator(df_nom_cognom.loc[i,'NOMBRE'],df_nom_cognom.loc[i,'APELLIDOS'].title()))\n",
    "    \n",
    "df_nom_cognom ['EMAIL'] = emails\n",
    "df_nom_cognom ['NOMBRE'] = [x.title() for x in df_nom_cognom['NOMBRE']]\n",
    "df_nom_cognom ['APELLIDOS'] = [x.title() for x in df_nom_cognom['APELLIDOS']]\n",
    "df_nom_cognom.drop(['NOMBRES HOMBRE','NOMBRES MUJER','APELLIDOS.1'], axis = 1., inplace = True)\n",
    "df_nom_cognom = df_nom_cognom[['NOMBRE', 'APELLIDOS', 'EMAIL']]\n",
    "df_nom_cognom.columns = ['nom','cognoms','email']\n",
    "df_nom_cognom.reset_index(inplace=True)\n",
    "df_nom_cognom.rename(columns={\"index\":\"ID_usuari\"}, inplace=True)\n",
    "df_nom_cognom.index=df_nom_cognom['ID_usuari']\n",
    "df_nom_cognom.drop('ID_usuari',axis=1, inplace=True)\n",
    "df_nom_cognom.head()"
   ]
  },
  {
   "cell_type": "code",
   "execution_count": null,
   "id": "5cdd47e9",
   "metadata": {
    "ExecuteTime": {
     "end_time": "2022-06-01T09:57:17.682690Z",
     "start_time": "2022-06-01T09:57:17.601843Z"
    }
   },
   "outputs": [],
   "source": [
    "#importem el dataframe directament a SQL generant una taula nova (no ha d'existir):\n",
    "\n",
    "\n",
    "\n",
    "ruta_connexion = 'mysql+pymysql://root@localhost:3306/biblioteca_socrates'\n",
    "conexion = create_engine(ruta_connexion)\n",
    "\n",
    "df_nom_cognom.to_sql('usuaris',con=conexion)"
   ]
  },
  {
   "cell_type": "code",
   "execution_count": 39,
   "id": "6796aefc",
   "metadata": {
    "ExecuteTime": {
     "end_time": "2022-06-01T10:11:42.427800Z",
     "start_time": "2022-06-01T10:11:42.301140Z"
    }
   },
   "outputs": [],
   "source": [
    "#afegim clau primaria a la columna ID_usuari.\n",
    "conn=pymysql.connect(host='localhost',port=int(3306),user='root',passwd='',db='biblioteca_socrates')\n",
    "modifiy_query= \"ALTER TABLE usuaris ADD PRIMARY KEY(ID_usuari);\"\n",
    "cursor=conn.cursor()\n",
    "cursor.execute(modifiy_query)\n",
    "conn.commit()\n",
    "conn.close()"
   ]
  },
  {
   "cell_type": "markdown",
   "id": "474d0043",
   "metadata": {},
   "source": [
    "Generem registres de prestecs de forma aleatoria:"
   ]
  },
  {
   "cell_type": "code",
   "execution_count": 30,
   "id": "64a0039f",
   "metadata": {
    "ExecuteTime": {
     "end_time": "2022-06-01T09:57:24.638031Z",
     "start_time": "2022-06-01T09:57:24.623068Z"
    }
   },
   "outputs": [],
   "source": [
    "def get_rnd_date(start, end, fmt):#per generar una data aleatoria donat un marge\n",
    "    \n",
    "  s = datetime.strptime(start, fmt)\n",
    "  e = datetime.strptime(end, fmt)\n",
    "  delta = e - s\n",
    "  return s + timedelta(days=(random.random() * delta.days))"
   ]
  },
  {
   "cell_type": "code",
   "execution_count": 45,
   "id": "8744b181",
   "metadata": {
    "ExecuteTime": {
     "end_time": "2022-06-01T10:26:06.116214Z",
     "start_time": "2022-06-01T10:26:06.084301Z"
    }
   },
   "outputs": [],
   "source": [
    "#Extraiem el número de llibres i d'usuaris que hi han a la BBDD\n",
    "conn=pymysql.connect(host='localhost',port=int(3306),user='root',passwd='',db='biblioteca_socrates')\n",
    "cursor=conn.cursor()\n",
    "num_llibres = len(pd.read_sql_query(\"SELECT titol FROM llibres\",conn))\n",
    "num_usuaris = len(pd.read_sql_query(\"SELECT nom FROM usuaris\",conn))\n"
   ]
  },
  {
   "cell_type": "code",
   "execution_count": 46,
   "id": "ad8b1486",
   "metadata": {
    "ExecuteTime": {
     "end_time": "2022-06-01T10:26:08.854888Z",
     "start_time": "2022-06-01T10:26:08.847907Z"
    }
   },
   "outputs": [],
   "source": [
    "import pyodbc"
   ]
  },
  {
   "cell_type": "code",
   "execution_count": 47,
   "id": "b86f7294",
   "metadata": {
    "ExecuteTime": {
     "end_time": "2022-06-01T10:26:13.504852Z",
     "start_time": "2022-06-01T10:26:12.450673Z"
    }
   },
   "outputs": [],
   "source": [
    "u=0\n",
    "db=MySQLdb.connect('localhost','root', '', 'biblioteca_socrates')\n",
    "while u<500:\n",
    "    date_0 = get_rnd_date(\"01/01/1996\", \"01/02/2022\", \"%d/%m/%Y\")#generem data inicial entre 1996 i 2022\n",
    "    date_21= date_0 + timedelta(days=21)\n",
    "    date_0_str = date_0.strftime(\"%Y/%m/%d\")\n",
    "    date_21_str = date_21.strftime(\"%Y/%m/%d\")    \n",
    "    insert_query= \"INSERT INTO prestecs (llibre_ID, usuari_ID, data_deixat, data_retorn) VALUES (\" + str(random.randint(1,num_llibres)) + \", \"+ str(random.randint(1,num_usuaris)) + \", '\"+ date_0_str + \"','\" + date_21_str + \"');\"    \n",
    "    u+=1\n",
    "    cursor=conn.cursor()\n",
    "    cursor.execute(insert_query)\n",
    "    conn.commit()\n",
    "conn.close()"
   ]
  },
  {
   "cell_type": "markdown",
   "id": "2ca294db",
   "metadata": {},
   "source": [
    "S'ha generat una taula amb el nom de prestecs amb 500 entrades."
   ]
  },
  {
   "cell_type": "markdown",
   "id": "f745fd8d",
   "metadata": {},
   "source": [
    "Fonts d'info:\n",
    "* Connentct mysql to jupyter Notebook https://www.codegrepper.com/code-examples/python/how+to+connect+mysql+database+in+jupyter+notebook\n",
    "* Inserir datos de dataframe a BBDD Mysqul: https://youtu.be/ZwUYcf_zS-E\n",
    "\n",
    "* Treballar amb datas: https://statisticsglobe.com/add-days-months-years-datetime-object-python"
   ]
  },
  {
   "cell_type": "markdown",
   "id": "8496cfc3",
   "metadata": {},
   "source": [
    "## Nivell 2"
   ]
  },
  {
   "cell_type": "markdown",
   "id": "7e66f58e",
   "metadata": {},
   "source": [
    "**- Exercici 2:**\n",
    "Mostra que pots carregar algunes consultes senzilles a un Pandas Dataframe."
   ]
  },
  {
   "cell_type": "code",
   "execution_count": 9,
   "id": "28023aae",
   "metadata": {
    "ExecuteTime": {
     "end_time": "2022-06-01T14:47:30.214700Z",
     "start_time": "2022-06-01T14:47:30.197605Z"
    }
   },
   "outputs": [],
   "source": [
    "#Extraiem el número de llibres i d'usuaris que hi han a la BBDD\n",
    "conn=pymysql.connect(host='localhost',port=int(3306),user='root',passwd='',db='biblioteca_socrates')\n",
    "\n",
    "\n",
    "num_llibres = len(pd.read_sql_query(\"SELECT titol FROM llibres\",conn))\n",
    "num_usuaris = len(pd.read_sql_query(\"SELECT nom FROM usuaris\",conn))"
   ]
  },
  {
   "cell_type": "code",
   "execution_count": 10,
   "id": "76030081",
   "metadata": {
    "ExecuteTime": {
     "end_time": "2022-06-01T14:47:30.977602Z",
     "start_time": "2022-06-01T14:47:30.960484Z"
    }
   },
   "outputs": [],
   "source": [
    "#busquem aquells llibres que continguin la paraula amor i el nom de l'autor comenci per una a.\n",
    "query1=\"SELECT * FROM llibres WHERE titol LIKE '%amor%' and autor LIKE 'a%';\""
   ]
  },
  {
   "cell_type": "code",
   "execution_count": 11,
   "id": "5e29a42c",
   "metadata": {
    "ExecuteTime": {
     "end_time": "2022-06-01T14:47:31.459429Z",
     "start_time": "2022-06-01T14:47:31.439420Z"
    }
   },
   "outputs": [],
   "source": [
    "df_query1=pd.read_sql_query(query1,conn)"
   ]
  },
  {
   "cell_type": "code",
   "execution_count": 12,
   "id": "3366cd94",
   "metadata": {
    "ExecuteTime": {
     "end_time": "2022-06-01T14:47:31.913109Z",
     "start_time": "2022-06-01T14:47:31.880120Z"
    }
   },
   "outputs": [
    {
     "data": {
      "text/html": [
       "<div>\n",
       "<style scoped>\n",
       "    .dataframe tbody tr th:only-of-type {\n",
       "        vertical-align: middle;\n",
       "    }\n",
       "\n",
       "    .dataframe tbody tr th {\n",
       "        vertical-align: top;\n",
       "    }\n",
       "\n",
       "    .dataframe thead th {\n",
       "        text-align: right;\n",
       "    }\n",
       "</style>\n",
       "<table border=\"1\" class=\"dataframe\">\n",
       "  <thead>\n",
       "    <tr style=\"text-align: right;\">\n",
       "      <th></th>\n",
       "      <th>ID_llibre</th>\n",
       "      <th>titol</th>\n",
       "      <th>autor</th>\n",
       "    </tr>\n",
       "  </thead>\n",
       "  <tbody>\n",
       "    <tr>\n",
       "      <th>0</th>\n",
       "      <td>4</td>\n",
       "      <td>El Amor ¡menudo caso!</td>\n",
       "      <td>Anna Mas</td>\n",
       "    </tr>\n",
       "    <tr>\n",
       "      <th>1</th>\n",
       "      <td>6</td>\n",
       "      <td>Amor tres delicias</td>\n",
       "      <td>Amelia Chardin</td>\n",
       "    </tr>\n",
       "    <tr>\n",
       "      <th>2</th>\n",
       "      <td>11</td>\n",
       "      <td>Mi amor de Wattpad</td>\n",
       "      <td>Ariana Godoy</td>\n",
       "    </tr>\n",
       "  </tbody>\n",
       "</table>\n",
       "</div>"
      ],
      "text/plain": [
       "   ID_llibre                  titol           autor\n",
       "0          4  El Amor ¡menudo caso!        Anna Mas\n",
       "1          6     Amor tres delicias  Amelia Chardin\n",
       "2         11     Mi amor de Wattpad    Ariana Godoy"
      ]
     },
     "execution_count": 12,
     "metadata": {},
     "output_type": "execute_result"
    }
   ],
   "source": [
    "df_query1"
   ]
  },
  {
   "cell_type": "markdown",
   "id": "9a9b7cde",
   "metadata": {},
   "source": [
    "Abans de realitzar les següents busquedes cal connectar les taules amb les claus primaries i les secundàries. També canviem els formats per a que coincideixin entre clau primaria i secundària. Jo ho he fet dintre del programa phpMyAdmin."
   ]
  },
  {
   "cell_type": "code",
   "execution_count": 13,
   "id": "8b4eb74d",
   "metadata": {
    "ExecuteTime": {
     "end_time": "2022-06-01T14:47:34.295208Z",
     "start_time": "2022-06-01T14:47:34.287255Z"
    }
   },
   "outputs": [],
   "source": [
    "#busquem aquells usuaris que hagin tingut un llibre prestat l'agost del 2018\n",
    "query2=\"\"\"SELECT nom , cognoms \n",
    "FROM usuaris \n",
    "WHERE ID_usuari IN (SELECT usuari_ID \n",
    "                   FROM prestecs \n",
    "                    WHERE data_deixat>=2018/08/01 \n",
    "                    AND data_deixat<2018/09/01);\"\"\""
   ]
  },
  {
   "cell_type": "code",
   "execution_count": 14,
   "id": "5124b9b3",
   "metadata": {
    "ExecuteTime": {
     "end_time": "2022-06-01T14:47:35.056173Z",
     "start_time": "2022-06-01T14:47:35.014223Z"
    }
   },
   "outputs": [
    {
     "data": {
      "text/html": [
       "<div>\n",
       "<style scoped>\n",
       "    .dataframe tbody tr th:only-of-type {\n",
       "        vertical-align: middle;\n",
       "    }\n",
       "\n",
       "    .dataframe tbody tr th {\n",
       "        vertical-align: top;\n",
       "    }\n",
       "\n",
       "    .dataframe thead th {\n",
       "        text-align: right;\n",
       "    }\n",
       "</style>\n",
       "<table border=\"1\" class=\"dataframe\">\n",
       "  <thead>\n",
       "    <tr style=\"text-align: right;\">\n",
       "      <th></th>\n",
       "      <th>nom</th>\n",
       "      <th>cognoms</th>\n",
       "    </tr>\n",
       "  </thead>\n",
       "  <tbody>\n",
       "    <tr>\n",
       "      <th>0</th>\n",
       "      <td>Francisco</td>\n",
       "      <td>Lopez</td>\n",
       "    </tr>\n",
       "    <tr>\n",
       "      <th>1</th>\n",
       "      <td>Juan</td>\n",
       "      <td>Sanchez</td>\n",
       "    </tr>\n",
       "    <tr>\n",
       "      <th>2</th>\n",
       "      <td>Manuel</td>\n",
       "      <td>Gonzalez</td>\n",
       "    </tr>\n",
       "    <tr>\n",
       "      <th>3</th>\n",
       "      <td>Carmen</td>\n",
       "      <td>Gomez</td>\n",
       "    </tr>\n",
       "    <tr>\n",
       "      <th>4</th>\n",
       "      <td>Jesus</td>\n",
       "      <td>Fernandez</td>\n",
       "    </tr>\n",
       "    <tr>\n",
       "      <th>5</th>\n",
       "      <td>Angel</td>\n",
       "      <td>Moreno</td>\n",
       "    </tr>\n",
       "    <tr>\n",
       "      <th>6</th>\n",
       "      <td>Dolores</td>\n",
       "      <td>Jimenez</td>\n",
       "    </tr>\n",
       "    <tr>\n",
       "      <th>7</th>\n",
       "      <td>Jose Antonio</td>\n",
       "      <td>Rodriguez</td>\n",
       "    </tr>\n",
       "    <tr>\n",
       "      <th>8</th>\n",
       "      <td>Ana</td>\n",
       "      <td>Navarro</td>\n",
       "    </tr>\n",
       "    <tr>\n",
       "      <th>9</th>\n",
       "      <td>Carlos</td>\n",
       "      <td>Ruiz</td>\n",
       "    </tr>\n",
       "    <tr>\n",
       "      <th>10</th>\n",
       "      <td>Jose Luis</td>\n",
       "      <td>Diaz</td>\n",
       "    </tr>\n",
       "    <tr>\n",
       "      <th>11</th>\n",
       "      <td>Pilar</td>\n",
       "      <td>Serrano</td>\n",
       "    </tr>\n",
       "    <tr>\n",
       "      <th>12</th>\n",
       "      <td>Miguel Angel</td>\n",
       "      <td>Hernandez</td>\n",
       "    </tr>\n",
       "    <tr>\n",
       "      <th>13</th>\n",
       "      <td>Francisco Javier</td>\n",
       "      <td>Muñoz</td>\n",
       "    </tr>\n",
       "    <tr>\n",
       "      <th>14</th>\n",
       "      <td>Cristina</td>\n",
       "      <td>Saez</td>\n",
       "    </tr>\n",
       "    <tr>\n",
       "      <th>15</th>\n",
       "      <td>Laura</td>\n",
       "      <td>Romero</td>\n",
       "    </tr>\n",
       "    <tr>\n",
       "      <th>16</th>\n",
       "      <td>Juan Jose</td>\n",
       "      <td>Rubio</td>\n",
       "    </tr>\n",
       "    <tr>\n",
       "      <th>17</th>\n",
       "      <td>Luis</td>\n",
       "      <td>Alfaro</td>\n",
       "    </tr>\n",
       "    <tr>\n",
       "      <th>18</th>\n",
       "      <td>Maria Teresa</td>\n",
       "      <td>Molina</td>\n",
       "    </tr>\n",
       "    <tr>\n",
       "      <th>19</th>\n",
       "      <td>Rosario</td>\n",
       "      <td>Lozano</td>\n",
       "    </tr>\n",
       "    <tr>\n",
       "      <th>20</th>\n",
       "      <td>Marta</td>\n",
       "      <td>Picazo</td>\n",
       "    </tr>\n",
       "    <tr>\n",
       "      <th>21</th>\n",
       "      <td>Fernando</td>\n",
       "      <td>Ortega</td>\n",
       "    </tr>\n",
       "    <tr>\n",
       "      <th>22</th>\n",
       "      <td>Juan Carlos</td>\n",
       "      <td>Morcillo</td>\n",
       "    </tr>\n",
       "    <tr>\n",
       "      <th>23</th>\n",
       "      <td>Maria Llanos</td>\n",
       "      <td>Cano</td>\n",
       "    </tr>\n",
       "    <tr>\n",
       "      <th>24</th>\n",
       "      <td>Maria Josefa</td>\n",
       "      <td>Marin</td>\n",
       "    </tr>\n",
       "    <tr>\n",
       "      <th>25</th>\n",
       "      <td>Raquel</td>\n",
       "      <td>Cuenca</td>\n",
       "    </tr>\n",
       "    <tr>\n",
       "      <th>26</th>\n",
       "      <td>Angeles</td>\n",
       "      <td>Garrido</td>\n",
       "    </tr>\n",
       "    <tr>\n",
       "      <th>27</th>\n",
       "      <td>Concepcion</td>\n",
       "      <td>Torres</td>\n",
       "    </tr>\n",
       "    <tr>\n",
       "      <th>28</th>\n",
       "      <td>Mercedes</td>\n",
       "      <td>Corcoles</td>\n",
       "    </tr>\n",
       "    <tr>\n",
       "      <th>29</th>\n",
       "      <td>Alvaro</td>\n",
       "      <td>Ortiz</td>\n",
       "    </tr>\n",
       "    <tr>\n",
       "      <th>30</th>\n",
       "      <td>Beatriz</td>\n",
       "      <td>Calero</td>\n",
       "    </tr>\n",
       "    <tr>\n",
       "      <th>31</th>\n",
       "      <td>Diego</td>\n",
       "      <td>Rodenas</td>\n",
       "    </tr>\n",
       "    <tr>\n",
       "      <th>32</th>\n",
       "      <td>Ana Belen</td>\n",
       "      <td>Alarcon</td>\n",
       "    </tr>\n",
       "    <tr>\n",
       "      <th>33</th>\n",
       "      <td>Jorge</td>\n",
       "      <td>Blazquez</td>\n",
       "    </tr>\n",
       "    <tr>\n",
       "      <th>34</th>\n",
       "      <td>Alfonso</td>\n",
       "      <td>Nuñez</td>\n",
       "    </tr>\n",
       "    <tr>\n",
       "      <th>35</th>\n",
       "      <td>Alicia</td>\n",
       "      <td>Pardo</td>\n",
       "    </tr>\n",
       "    <tr>\n",
       "      <th>36</th>\n",
       "      <td>Consuelo</td>\n",
       "      <td>Moya</td>\n",
       "    </tr>\n",
       "    <tr>\n",
       "      <th>37</th>\n",
       "      <td>Rosa</td>\n",
       "      <td>Tebar</td>\n",
       "    </tr>\n",
       "    <tr>\n",
       "      <th>38</th>\n",
       "      <td>Ivan</td>\n",
       "      <td>Requena</td>\n",
       "    </tr>\n",
       "    <tr>\n",
       "      <th>39</th>\n",
       "      <td>Juan Manuel</td>\n",
       "      <td>Arenas</td>\n",
       "    </tr>\n",
       "    <tr>\n",
       "      <th>40</th>\n",
       "      <td>Pascual</td>\n",
       "      <td>Ballesteros</td>\n",
       "    </tr>\n",
       "    <tr>\n",
       "      <th>41</th>\n",
       "      <td>Jose Miguel</td>\n",
       "      <td>Collado</td>\n",
       "    </tr>\n",
       "    <tr>\n",
       "      <th>42</th>\n",
       "      <td>Maria Luisa</td>\n",
       "      <td>Ramir</td>\n",
       "    </tr>\n",
       "  </tbody>\n",
       "</table>\n",
       "</div>"
      ],
      "text/plain": [
       "                 nom      cognoms\n",
       "0          Francisco        Lopez\n",
       "1               Juan      Sanchez\n",
       "2             Manuel     Gonzalez\n",
       "3             Carmen        Gomez\n",
       "4              Jesus    Fernandez\n",
       "5              Angel       Moreno\n",
       "6            Dolores      Jimenez\n",
       "7       Jose Antonio    Rodriguez\n",
       "8                Ana      Navarro\n",
       "9             Carlos         Ruiz\n",
       "10         Jose Luis         Diaz\n",
       "11             Pilar      Serrano\n",
       "12      Miguel Angel    Hernandez\n",
       "13  Francisco Javier        Muñoz\n",
       "14          Cristina         Saez\n",
       "15             Laura       Romero\n",
       "16         Juan Jose        Rubio\n",
       "17              Luis       Alfaro\n",
       "18      Maria Teresa       Molina\n",
       "19           Rosario       Lozano\n",
       "20             Marta       Picazo\n",
       "21          Fernando       Ortega\n",
       "22       Juan Carlos     Morcillo\n",
       "23      Maria Llanos         Cano\n",
       "24      Maria Josefa        Marin\n",
       "25            Raquel       Cuenca\n",
       "26           Angeles      Garrido\n",
       "27        Concepcion       Torres\n",
       "28          Mercedes     Corcoles\n",
       "29            Alvaro        Ortiz\n",
       "30           Beatriz       Calero\n",
       "31             Diego      Rodenas\n",
       "32         Ana Belen      Alarcon\n",
       "33             Jorge     Blazquez\n",
       "34           Alfonso        Nuñez\n",
       "35            Alicia        Pardo\n",
       "36          Consuelo         Moya\n",
       "37              Rosa        Tebar\n",
       "38              Ivan      Requena\n",
       "39       Juan Manuel       Arenas\n",
       "40           Pascual  Ballesteros\n",
       "41       Jose Miguel      Collado\n",
       "42       Maria Luisa        Ramir"
      ]
     },
     "execution_count": 14,
     "metadata": {},
     "output_type": "execute_result"
    }
   ],
   "source": [
    "df_query2=pd.read_sql_query(query2,conn)\n",
    "df_query2"
   ]
  },
  {
   "cell_type": "markdown",
   "id": "b68e6fbb",
   "metadata": {},
   "source": [
    "## Nivell 3"
   ]
  },
  {
   "cell_type": "markdown",
   "id": "72163d27",
   "metadata": {},
   "source": [
    " **- Exercici 3:** Genera algun gràfic que resumeixi les dades. "
   ]
  },
  {
   "cell_type": "markdown",
   "id": "2f3c5907",
   "metadata": {
    "ExecuteTime": {
     "end_time": "2022-06-01T14:47:38.243388Z",
     "start_time": "2022-06-01T14:47:38.221414Z"
    }
   },
   "source": [
    "Dintre de la última taula, obtenim el numero de vegades que es repeteix cada lletra en els noms i ho grafiquem."
   ]
  },
  {
   "cell_type": "markdown",
   "id": "1bcf4e07",
   "metadata": {},
   "source": [
    "Com que la query 2 no és massa resumible el que he fet és generar gràfics a partir de certa informació que aporta. Concretament, evaluo la repetició de les lletres en els noms obtinguts en el Query 2: "
   ]
  },
  {
   "cell_type": "code",
   "execution_count": 16,
   "id": "57a77cdb",
   "metadata": {
    "ExecuteTime": {
     "end_time": "2022-06-01T14:47:47.533945Z",
     "start_time": "2022-06-01T14:47:47.524968Z"
    }
   },
   "outputs": [],
   "source": [
    "abecedary=list( 'abcdefghijklmnopqrstuvwyxz')"
   ]
  },
  {
   "cell_type": "code",
   "execution_count": 32,
   "id": "1394c87a",
   "metadata": {
    "ExecuteTime": {
     "end_time": "2022-06-01T15:05:21.975376Z",
     "start_time": "2022-06-01T15:05:21.960335Z"
    },
    "scrolled": true
   },
   "outputs": [],
   "source": [
    "\n",
    "my_dict, my_dict2= {}, {}\n",
    "for i in abecedary:\n",
    "    lista=[]  \n",
    "    my_dict.update({i:0})\n",
    "    for j in df_query2.nom:\n",
    "        new_value=j.count(i) + my_dict[i]\n",
    "        my_dict.update({i:new_value})\n",
    "    lista.append(my_dict[i])\n",
    "    my_dict2.update({i:lista})"
   ]
  },
  {
   "cell_type": "code",
   "execution_count": 35,
   "id": "2e2afc5b",
   "metadata": {
    "ExecuteTime": {
     "end_time": "2022-06-01T15:06:52.848562Z",
     "start_time": "2022-06-01T15:06:52.816747Z"
    }
   },
   "outputs": [
    {
     "data": {
      "text/html": [
       "<div>\n",
       "<style scoped>\n",
       "    .dataframe tbody tr th:only-of-type {\n",
       "        vertical-align: middle;\n",
       "    }\n",
       "\n",
       "    .dataframe tbody tr th {\n",
       "        vertical-align: top;\n",
       "    }\n",
       "\n",
       "    .dataframe thead th {\n",
       "        text-align: right;\n",
       "    }\n",
       "</style>\n",
       "<table border=\"1\" class=\"dataframe\">\n",
       "  <thead>\n",
       "    <tr style=\"text-align: right;\">\n",
       "      <th></th>\n",
       "      <th>a</th>\n",
       "      <th>b</th>\n",
       "      <th>c</th>\n",
       "      <th>d</th>\n",
       "      <th>e</th>\n",
       "      <th>f</th>\n",
       "      <th>g</th>\n",
       "      <th>h</th>\n",
       "      <th>i</th>\n",
       "      <th>j</th>\n",
       "      <th>...</th>\n",
       "      <th>q</th>\n",
       "      <th>r</th>\n",
       "      <th>s</th>\n",
       "      <th>t</th>\n",
       "      <th>u</th>\n",
       "      <th>v</th>\n",
       "      <th>w</th>\n",
       "      <th>y</th>\n",
       "      <th>x</th>\n",
       "      <th>z</th>\n",
       "    </tr>\n",
       "  </thead>\n",
       "  <tbody>\n",
       "    <tr>\n",
       "      <th>0</th>\n",
       "      <td>42</td>\n",
       "      <td>0</td>\n",
       "      <td>9</td>\n",
       "      <td>2</td>\n",
       "      <td>31</td>\n",
       "      <td>2</td>\n",
       "      <td>7</td>\n",
       "      <td>0</td>\n",
       "      <td>22</td>\n",
       "      <td>0</td>\n",
       "      <td>...</td>\n",
       "      <td>1</td>\n",
       "      <td>22</td>\n",
       "      <td>25</td>\n",
       "      <td>4</td>\n",
       "      <td>16</td>\n",
       "      <td>3</td>\n",
       "      <td>0</td>\n",
       "      <td>0</td>\n",
       "      <td>0</td>\n",
       "      <td>1</td>\n",
       "    </tr>\n",
       "  </tbody>\n",
       "</table>\n",
       "<p>1 rows × 26 columns</p>\n",
       "</div>"
      ],
      "text/plain": [
       "    a  b  c  d   e  f  g  h   i  j  ...  q   r   s  t   u  v  w  y  x  z\n",
       "0  42  0  9  2  31  2  7  0  22  0  ...  1  22  25  4  16  3  0  0  0  1\n",
       "\n",
       "[1 rows x 26 columns]"
      ]
     },
     "execution_count": 35,
     "metadata": {},
     "output_type": "execute_result"
    }
   ],
   "source": [
    "df_letters=pd.DataFrame(my_dict2)\n",
    "df_letters"
   ]
  },
  {
   "cell_type": "code",
   "execution_count": 125,
   "id": "21900a58",
   "metadata": {
    "ExecuteTime": {
     "end_time": "2022-06-01T16:27:52.944704Z",
     "start_time": "2022-06-01T16:27:52.621515Z"
    },
    "scrolled": true
   },
   "outputs": [
    {
     "data": {
      "image/png": "[encoded data removed]",
      "text/plain": [
       "<Figure size 432x288 with 1 Axes>"
      ]
     },
     "metadata": {
      "needs_background": "light"
     },
     "output_type": "display_data"
    }
   ],
   "source": [
    "#Draw a bar plot \n",
    "barplot=sns.barplot(x=list (df_letters.columns), y=list(df_letters.iloc[0]))\n",
    "barplot.set(title='Letter counting in names obtained for Query3')\n",
    "barplot.set_xlabel('Letter')\n",
    "barplot.set_ylabel('# of repetitions')\n",
    "plt.show()"
   ]
  },
  {
   "cell_type": "code",
   "execution_count": 115,
   "id": "98243cf3",
   "metadata": {
    "ExecuteTime": {
     "end_time": "2022-06-01T16:12:33.991937Z",
     "start_time": "2022-06-01T16:12:33.969015Z"
    }
   },
   "outputs": [],
   "source": [
    "#transform dataframe to drop 0 values and sort by value (transpose columns and raws for sorting)\n",
    "df_letters_no_null=df_letters.copy()\n",
    "for i in df_letters_no_null.columns:\n",
    "    if df_letters_no_null.iloc[0][i]==0:\n",
    "        df_letters_no_null.drop(i,axis=1, inplace=True)\n",
    "df_letters_no_null= df_letters_no_null.T  \n",
    "df_letters_no_null.sort_values(0, ascending=True, inplace=True)"
   ]
  },
  {
   "cell_type": "code",
   "execution_count": 112,
   "id": "6b64c406",
   "metadata": {
    "ExecuteTime": {
     "end_time": "2022-06-01T16:09:38.522540Z",
     "start_time": "2022-06-01T16:09:38.109462Z"
    },
    "scrolled": true
   },
   "outputs": [
    {
     "data": {
      "text/plain": [
       "Text(0.5, 2, 'Letters distribution in names in Query 3')"
      ]
     },
     "execution_count": 112,
     "metadata": {},
     "output_type": "execute_result"
    },
    {
     "data": {
      "image/png": "[encoded data removed]",
      "text/plain": [
       "<Figure size 432x288 with 1 Axes>"
      ]
     },
     "metadata": {},
     "output_type": "display_data"
    }
   ],
   "source": [
    "#draw pie chart\n",
    "import random\n",
    "fig, ax = plt.subplots( nrows=1, ncols=1 )\n",
    "explode_0 = list(range(len(df_letters_no_null.index),0,-1))\n",
    "\n",
    "def aleatColors(numberColors): #he jugat amb els colors, aleatori, zones, i he deixat el que m'agrada més\n",
    "    listColors=[]\n",
    "    for i in range(0,numberColors):\n",
    "        listColors.append([0,0,0])\n",
    "        listColors[i][0]=((1/numberColors)*i)*0.7 #finalment he tret el factor aleatori però deixo el nom de la funció\n",
    "        listColors[i][1]=0.6\n",
    "        listColors[i][2]=0.8\n",
    "    return listColors\n",
    "colors= aleatColors(len( list(df_letters_no_null.index)))        \n",
    "explode =list( map(lambda x: x *0.13, explode_0))\n",
    "ax.figsize=(0,0)\n",
    "ax.axis('off')\n",
    "fontdict_1 = {'family': 'serif','color':  'darkblue','weight': 'normal', 'size': 20, 'style':'oblique'}\n",
    "fontdict_2 = {'family': 'serif','color':  'black','weight': 'normal', 'size': 12, 'style':'oblique'}#Estil dels títols\n",
    "ax.pie(list(df_letters_no_null[0]),center=(-1,-1),explode = explode, shadow=True, labels =  list(df_letters_no_null.index), radius=2.4, autopct = '%1.2f%%', colors = colors, textprops = fontdict_2, pctdistance=0.7 )\n",
    "ax.set_title(\"Letters distribution in names in Query 3\", y=2, pad=35,fontdict=fontdict_1)\n"
   ]
  },
  {
   "cell_type": "markdown",
   "id": "187e2946",
   "metadata": {},
   "source": [
    "# Conclusions:"
   ]
  },
  {
   "cell_type": "markdown",
   "id": "c164f603",
   "metadata": {},
   "source": [
    "* Aprenem a connectar amb bases de dades externes. A incorporar registres, modificar-los, exportar dataframes com a taules,... directament des del Notebook amb python. És més fàcil la gestió de BBDD directament des de PHPMyAdmin però és ideal per automatitzar o entrar dades aleatòries per generar BBDD fictícies.\n",
    "\n",
    "* Aprenem a generar dataframes a partir de les consultes a bases de dades i en grafiquem el resultat.\n",
    "\n",
    "* Fem servir dues llibreries diferents: Pymysql i MySQLdb."
   ]
  }
 ],
 "metadata": {
  "kernelspec": {
   "display_name": "Python 3 (ipykernel)",
   "language": "python",
   "name": "python3"
  },
  "language_info": {
   "codemirror_mode": {
    "name": "ipython",
    "version": 3
   },
   "file_extension": ".py",
   "mimetype": "text/x-python",
   "name": "python",
   "nbconvert_exporter": "python",
   "pygments_lexer": "ipython3",
   "version": "3.7.12"
  },
  "latex_envs": {
   "LaTeX_envs_menu_present": true,
   "autoclose": false,
   "autocomplete": true,
   "bibliofile": "biblio.bib",
   "cite_by": "apalike",
   "current_citInitial": 1,
   "eqLabelWithNumbers": true,
   "eqNumInitial": 1,
   "hotkeys": {
    "equation": "Ctrl-E",
    "itemize": "Ctrl-I"
   },
   "labels_anchors": false,
   "latex_user_defs": false,
   "report_style_numbering": false,
   "user_envs_cfg": false
  },
  "widgets": {
   "application/vnd.jupyter.widget-state+json": {
    "state": {},
    "version_major": 2,
    "version_minor": 0
   }
  }
 },
 "nbformat": 4,
 "nbformat_minor": 5
}
